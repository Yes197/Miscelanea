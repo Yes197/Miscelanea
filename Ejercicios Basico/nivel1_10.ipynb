{
  "nbformat": 4,
  "nbformat_minor": 0,
  "metadata": {
    "kernelspec": {
      "display_name": "Python 3",
      "language": "python",
      "name": "python3"
    },
    "language_info": {
      "codemirror_mode": {
        "name": "ipython",
        "version": 3
      },
      "file_extension": ".py",
      "mimetype": "text/x-python",
      "name": "python",
      "nbconvert_exporter": "python",
      "pygments_lexer": "ipython3",
      "version": "3.7.3"
    },
    "colab": {
      "name": "nivel1_10.ipynb",
      "provenance": [],
      "toc_visible": true
    }
  },
  "cells": [
    {
      "cell_type": "markdown",
      "metadata": {
        "id": "XnQ-i-g_3hFl",
        "colab_type": "text"
      },
      "source": [
        "<center><img src=\"http://milestonetechs.com/media/filer_public_thumbnails/filer_public/24/26/24260fc4-2637-4348-b2bd-3c333f2f806d/python_logo.jpg__800x250_q85_crop_subsampling-2.jpg\" width=\"1000\"></center>"
      ]
    },
    {
      "cell_type": "markdown",
      "metadata": {
        "id": "0Nmirz5X3hFn",
        "colab_type": "text"
      },
      "source": [
        "# Programa de Especialización en Python\n",
        "\n",
        "## Tema 8. Discretización de datos\n",
        "\n",
        "### Prof. Manuel Sigüeñas, M.Sc.(c)"
      ]
    },
    {
      "cell_type": "markdown",
      "metadata": {
        "id": "oRj4xq7I3hFp",
        "colab_type": "text"
      },
      "source": [
        "<a id='beginning'></a>\n",
        "Warehousing (proyecto de almacenamiento de datos) puede resultar en terabytes de datos: Tareas complejas de data mining o machine learning pueden demorar mucho tiempo en ejecutarse sobre el conjunto completo de datos. Ante este problema surge la idea de reducción de datos, cuyo objetivo es buscar una representación reducida del conjunto de datos que es mucho más pequeña en volumen, pero produce los mismos (o casi iguales) resultados. Las estrategias de reducción de datos son: agregación del cubo de datos. discretización y reducción de la dimensionalidad. En esta sección nos ocuparemos de la discretización de datos:\n",
        "\n",
        "1. [Discretización](#part1)\n",
        "2. [Escalado de variables regresoras](#part2)\n",
        "3. [Discretización por intervalos de igual amplitud](#part3)\n",
        "4. [Discretización por Cuantil](#part4)\n",
        "5. [Discretización por kmeans](#part5)"
      ]
    },
    {
      "cell_type": "code",
      "metadata": {
        "id": "qcbbMsqI3hFq",
        "colab_type": "code",
        "colab": {}
      },
      "source": [
        "from IPython.display import Image\n",
        "%matplotlib inline"
      ],
      "execution_count": null,
      "outputs": []
    },
    {
      "cell_type": "code",
      "metadata": {
        "id": "1MZeeFB43hFy",
        "colab_type": "code",
        "colab": {}
      },
      "source": [
        "import pandas as pd"
      ],
      "execution_count": null,
      "outputs": []
    },
    {
      "cell_type": "code",
      "metadata": {
        "id": "n_qlvtoU3hF4",
        "colab_type": "code",
        "colab": {},
        "outputId": "718e003f-b321-47bc-b0cc-e165459e4d73"
      },
      "source": [
        "FileCSV=\"D:/Python/1. Nivel I/8/datos/bupa.txt\"\n",
        "#Data Bupa\n",
        "bupa=pd.read_csv(FileCSV)\n",
        "bupa=bupa.rename(columns = {\"V1\":\"media del volúmen corpusculas\", \"V2\":\"fosfatasa alcalina\", \"V3\":\"alamine aminotransferase\", \n",
        "              \"V4\":\"aspartate aminotransferase\", \"V5\":\"gamma-glutamyl transpeptidase\", \n",
        "              \"V6\":\"media de bebidas alchólicas por día\", \"V7\":\"condición del paciente\"})\n",
        "bupa.head()\n",
        "#condición del paciente: 1 (higado enfermo) 2 (higado sano)"
      ],
      "execution_count": null,
      "outputs": [
        {
          "output_type": "execute_result",
          "data": {
            "text/html": [
              "<div>\n",
              "<style scoped>\n",
              "    .dataframe tbody tr th:only-of-type {\n",
              "        vertical-align: middle;\n",
              "    }\n",
              "\n",
              "    .dataframe tbody tr th {\n",
              "        vertical-align: top;\n",
              "    }\n",
              "\n",
              "    .dataframe thead th {\n",
              "        text-align: right;\n",
              "    }\n",
              "</style>\n",
              "<table border=\"1\" class=\"dataframe\">\n",
              "  <thead>\n",
              "    <tr style=\"text-align: right;\">\n",
              "      <th></th>\n",
              "      <th>media del volúmen corpusculas</th>\n",
              "      <th>fosfatasa alcalina</th>\n",
              "      <th>alamine aminotransferase</th>\n",
              "      <th>aspartate aminotransferase</th>\n",
              "      <th>gamma-glutamyl transpeptidase</th>\n",
              "      <th>media de bebidas alchólicas por día</th>\n",
              "      <th>condición del paciente</th>\n",
              "    </tr>\n",
              "  </thead>\n",
              "  <tbody>\n",
              "    <tr>\n",
              "      <th>0</th>\n",
              "      <td>85</td>\n",
              "      <td>92</td>\n",
              "      <td>45</td>\n",
              "      <td>27</td>\n",
              "      <td>31</td>\n",
              "      <td>0.0</td>\n",
              "      <td>1</td>\n",
              "    </tr>\n",
              "    <tr>\n",
              "      <th>1</th>\n",
              "      <td>85</td>\n",
              "      <td>64</td>\n",
              "      <td>59</td>\n",
              "      <td>32</td>\n",
              "      <td>23</td>\n",
              "      <td>0.0</td>\n",
              "      <td>2</td>\n",
              "    </tr>\n",
              "    <tr>\n",
              "      <th>2</th>\n",
              "      <td>86</td>\n",
              "      <td>54</td>\n",
              "      <td>33</td>\n",
              "      <td>16</td>\n",
              "      <td>54</td>\n",
              "      <td>0.0</td>\n",
              "      <td>2</td>\n",
              "    </tr>\n",
              "    <tr>\n",
              "      <th>3</th>\n",
              "      <td>91</td>\n",
              "      <td>78</td>\n",
              "      <td>34</td>\n",
              "      <td>24</td>\n",
              "      <td>36</td>\n",
              "      <td>0.0</td>\n",
              "      <td>2</td>\n",
              "    </tr>\n",
              "    <tr>\n",
              "      <th>4</th>\n",
              "      <td>87</td>\n",
              "      <td>70</td>\n",
              "      <td>12</td>\n",
              "      <td>28</td>\n",
              "      <td>10</td>\n",
              "      <td>0.0</td>\n",
              "      <td>2</td>\n",
              "    </tr>\n",
              "  </tbody>\n",
              "</table>\n",
              "</div>"
            ],
            "text/plain": [
              "   media del volúmen corpusculas  fosfatasa alcalina  \\\n",
              "0                             85                  92   \n",
              "1                             85                  64   \n",
              "2                             86                  54   \n",
              "3                             91                  78   \n",
              "4                             87                  70   \n",
              "\n",
              "   alamine aminotransferase  aspartate aminotransferase  \\\n",
              "0                        45                          27   \n",
              "1                        59                          32   \n",
              "2                        33                          16   \n",
              "3                        34                          24   \n",
              "4                        12                          28   \n",
              "\n",
              "   gamma-glutamyl transpeptidase  media de bebidas alchólicas por día  \\\n",
              "0                             31                                  0.0   \n",
              "1                             23                                  0.0   \n",
              "2                             54                                  0.0   \n",
              "3                             36                                  0.0   \n",
              "4                             10                                  0.0   \n",
              "\n",
              "   condición del paciente  \n",
              "0                       1  \n",
              "1                       2  \n",
              "2                       2  \n",
              "3                       2  \n",
              "4                       2  "
            ]
          },
          "metadata": {
            "tags": []
          },
          "execution_count": 3
        }
      ]
    },
    {
      "cell_type": "code",
      "metadata": {
        "id": "WgmSWNpX3hGA",
        "colab_type": "code",
        "colab": {}
      },
      "source": [
        "from sklearn.model_selection import train_test_split"
      ],
      "execution_count": null,
      "outputs": []
    },
    {
      "cell_type": "code",
      "metadata": {
        "id": "Mt6Ane193hGE",
        "colab_type": "code",
        "colab": {}
      },
      "source": [
        "X, y = bupa.iloc[:, 0:6].values, bupa.iloc[:, 6].values\n",
        "\n",
        "X_train, X_test, y_train, y_test =\\\n",
        "    train_test_split(X, y, \n",
        "                     test_size=0.3, \n",
        "                     random_state=0, \n",
        "                     stratify=y)"
      ],
      "execution_count": null,
      "outputs": []
    },
    {
      "cell_type": "code",
      "metadata": {
        "id": "qsKRRVw23hGH",
        "colab_type": "code",
        "colab": {},
        "outputId": "caab5d30-8133-4d89-e961-24c8455c5680"
      },
      "source": [
        "type(X_train)"
      ],
      "execution_count": null,
      "outputs": [
        {
          "output_type": "execute_result",
          "data": {
            "text/plain": [
              "numpy.ndarray"
            ]
          },
          "metadata": {
            "tags": []
          },
          "execution_count": 6
        }
      ]
    },
    {
      "cell_type": "code",
      "metadata": {
        "id": "4OksVFy03hGK",
        "colab_type": "code",
        "colab": {},
        "outputId": "4962adf4-bef1-494d-de69-865d6b5b5f53"
      },
      "source": [
        "#Datos de entrenamiento\n",
        "x_t= pd.DataFrame(X_train, columns=[\"media del volúmen corpusculas\", \"fosfatasa alcalina\", \n",
        "                                  \"alamine aminotransferase\", \"aspartate aminotransferase\", \n",
        "                                  \"gamma-glutamyl transpeptidase\", \"media de bebidas alchólicas por día\"])\n",
        "y_t= pd.DataFrame(y_train, columns=[\"condición del paciente\"])\n",
        "\n",
        "bupa_entrenamiento = pd.concat([x_t, y_t], axis=1)\n",
        "bupa_entrenamiento.head()"
      ],
      "execution_count": null,
      "outputs": [
        {
          "output_type": "execute_result",
          "data": {
            "text/html": [
              "<div>\n",
              "<style scoped>\n",
              "    .dataframe tbody tr th:only-of-type {\n",
              "        vertical-align: middle;\n",
              "    }\n",
              "\n",
              "    .dataframe tbody tr th {\n",
              "        vertical-align: top;\n",
              "    }\n",
              "\n",
              "    .dataframe thead th {\n",
              "        text-align: right;\n",
              "    }\n",
              "</style>\n",
              "<table border=\"1\" class=\"dataframe\">\n",
              "  <thead>\n",
              "    <tr style=\"text-align: right;\">\n",
              "      <th></th>\n",
              "      <th>media del volúmen corpusculas</th>\n",
              "      <th>fosfatasa alcalina</th>\n",
              "      <th>alamine aminotransferase</th>\n",
              "      <th>aspartate aminotransferase</th>\n",
              "      <th>gamma-glutamyl transpeptidase</th>\n",
              "      <th>media de bebidas alchólicas por día</th>\n",
              "      <th>condición del paciente</th>\n",
              "    </tr>\n",
              "  </thead>\n",
              "  <tbody>\n",
              "    <tr>\n",
              "      <th>0</th>\n",
              "      <td>88.0</td>\n",
              "      <td>122.0</td>\n",
              "      <td>35.0</td>\n",
              "      <td>29.0</td>\n",
              "      <td>42.0</td>\n",
              "      <td>0.5</td>\n",
              "      <td>2</td>\n",
              "    </tr>\n",
              "    <tr>\n",
              "      <th>1</th>\n",
              "      <td>87.0</td>\n",
              "      <td>66.0</td>\n",
              "      <td>27.0</td>\n",
              "      <td>22.0</td>\n",
              "      <td>9.0</td>\n",
              "      <td>2.0</td>\n",
              "      <td>1</td>\n",
              "    </tr>\n",
              "    <tr>\n",
              "      <th>2</th>\n",
              "      <td>84.0</td>\n",
              "      <td>82.0</td>\n",
              "      <td>21.0</td>\n",
              "      <td>21.0</td>\n",
              "      <td>19.0</td>\n",
              "      <td>0.5</td>\n",
              "      <td>2</td>\n",
              "    </tr>\n",
              "    <tr>\n",
              "      <th>3</th>\n",
              "      <td>90.0</td>\n",
              "      <td>67.0</td>\n",
              "      <td>35.0</td>\n",
              "      <td>19.0</td>\n",
              "      <td>35.0</td>\n",
              "      <td>2.0</td>\n",
              "      <td>1</td>\n",
              "    </tr>\n",
              "    <tr>\n",
              "      <th>4</th>\n",
              "      <td>82.0</td>\n",
              "      <td>48.0</td>\n",
              "      <td>27.0</td>\n",
              "      <td>15.0</td>\n",
              "      <td>12.0</td>\n",
              "      <td>0.5</td>\n",
              "      <td>1</td>\n",
              "    </tr>\n",
              "  </tbody>\n",
              "</table>\n",
              "</div>"
            ],
            "text/plain": [
              "   media del volúmen corpusculas  fosfatasa alcalina  \\\n",
              "0                           88.0               122.0   \n",
              "1                           87.0                66.0   \n",
              "2                           84.0                82.0   \n",
              "3                           90.0                67.0   \n",
              "4                           82.0                48.0   \n",
              "\n",
              "   alamine aminotransferase  aspartate aminotransferase  \\\n",
              "0                      35.0                        29.0   \n",
              "1                      27.0                        22.0   \n",
              "2                      21.0                        21.0   \n",
              "3                      35.0                        19.0   \n",
              "4                      27.0                        15.0   \n",
              "\n",
              "   gamma-glutamyl transpeptidase  media de bebidas alchólicas por día  \\\n",
              "0                           42.0                                  0.5   \n",
              "1                            9.0                                  2.0   \n",
              "2                           19.0                                  0.5   \n",
              "3                           35.0                                  2.0   \n",
              "4                           12.0                                  0.5   \n",
              "\n",
              "   condición del paciente  \n",
              "0                       2  \n",
              "1                       1  \n",
              "2                       2  \n",
              "3                       1  \n",
              "4                       1  "
            ]
          },
          "metadata": {
            "tags": []
          },
          "execution_count": 7
        }
      ]
    },
    {
      "cell_type": "code",
      "metadata": {
        "id": "coBXJWit3hGN",
        "colab_type": "code",
        "colab": {},
        "outputId": "4105db84-41f1-4bf9-a485-e63aff783442"
      },
      "source": [
        "bupa_entrenamiento.count()"
      ],
      "execution_count": null,
      "outputs": [
        {
          "output_type": "execute_result",
          "data": {
            "text/plain": [
              "media del volúmen corpusculas          241\n",
              "fosfatasa alcalina                     241\n",
              "alamine aminotransferase               241\n",
              "aspartate aminotransferase             241\n",
              "gamma-glutamyl transpeptidase          241\n",
              "media de bebidas alchólicas por día    241\n",
              "condición del paciente                 241\n",
              "dtype: int64"
            ]
          },
          "metadata": {
            "tags": []
          },
          "execution_count": 8
        }
      ]
    },
    {
      "cell_type": "code",
      "metadata": {
        "id": "rRGmaWgA3hGP",
        "colab_type": "code",
        "colab": {},
        "outputId": "6684254f-1f1d-4bcb-fe8b-9c53dc02f984"
      },
      "source": [
        "#Datos de prueba\n",
        "x_p= pd.DataFrame(X_test, columns=[\"media del volúmen corpusculas\", \"fosfatasa alcalina\", \n",
        "                                  \"alamine aminotransferase\", \"aspartate aminotransferase\", \n",
        "                                  \"gamma-glutamyl transpeptidase\", \"media de bebidas alchólicas por día\"])\n",
        "y_p= pd.DataFrame(y_test, columns=[\"condición del paciente\"])\n",
        "\n",
        "bupa_prueba = pd.concat([x_p, y_p], axis=1)\n",
        "bupa_prueba.head()"
      ],
      "execution_count": null,
      "outputs": [
        {
          "output_type": "execute_result",
          "data": {
            "text/html": [
              "<div>\n",
              "<style scoped>\n",
              "    .dataframe tbody tr th:only-of-type {\n",
              "        vertical-align: middle;\n",
              "    }\n",
              "\n",
              "    .dataframe tbody tr th {\n",
              "        vertical-align: top;\n",
              "    }\n",
              "\n",
              "    .dataframe thead th {\n",
              "        text-align: right;\n",
              "    }\n",
              "</style>\n",
              "<table border=\"1\" class=\"dataframe\">\n",
              "  <thead>\n",
              "    <tr style=\"text-align: right;\">\n",
              "      <th></th>\n",
              "      <th>media del volúmen corpusculas</th>\n",
              "      <th>fosfatasa alcalina</th>\n",
              "      <th>alamine aminotransferase</th>\n",
              "      <th>aspartate aminotransferase</th>\n",
              "      <th>gamma-glutamyl transpeptidase</th>\n",
              "      <th>media de bebidas alchólicas por día</th>\n",
              "      <th>condición del paciente</th>\n",
              "    </tr>\n",
              "  </thead>\n",
              "  <tbody>\n",
              "    <tr>\n",
              "      <th>0</th>\n",
              "      <td>90.0</td>\n",
              "      <td>72.0</td>\n",
              "      <td>17.0</td>\n",
              "      <td>19.0</td>\n",
              "      <td>19.0</td>\n",
              "      <td>6.0</td>\n",
              "      <td>2</td>\n",
              "    </tr>\n",
              "    <tr>\n",
              "      <th>1</th>\n",
              "      <td>94.0</td>\n",
              "      <td>91.0</td>\n",
              "      <td>27.0</td>\n",
              "      <td>20.0</td>\n",
              "      <td>15.0</td>\n",
              "      <td>0.5</td>\n",
              "      <td>1</td>\n",
              "    </tr>\n",
              "    <tr>\n",
              "      <th>2</th>\n",
              "      <td>92.0</td>\n",
              "      <td>79.0</td>\n",
              "      <td>70.0</td>\n",
              "      <td>32.0</td>\n",
              "      <td>84.0</td>\n",
              "      <td>7.0</td>\n",
              "      <td>1</td>\n",
              "    </tr>\n",
              "    <tr>\n",
              "      <th>3</th>\n",
              "      <td>86.0</td>\n",
              "      <td>79.0</td>\n",
              "      <td>28.0</td>\n",
              "      <td>16.0</td>\n",
              "      <td>17.0</td>\n",
              "      <td>0.5</td>\n",
              "      <td>1</td>\n",
              "    </tr>\n",
              "    <tr>\n",
              "      <th>4</th>\n",
              "      <td>87.0</td>\n",
              "      <td>59.0</td>\n",
              "      <td>37.0</td>\n",
              "      <td>27.0</td>\n",
              "      <td>34.0</td>\n",
              "      <td>2.0</td>\n",
              "      <td>2</td>\n",
              "    </tr>\n",
              "  </tbody>\n",
              "</table>\n",
              "</div>"
            ],
            "text/plain": [
              "   media del volúmen corpusculas  fosfatasa alcalina  \\\n",
              "0                           90.0                72.0   \n",
              "1                           94.0                91.0   \n",
              "2                           92.0                79.0   \n",
              "3                           86.0                79.0   \n",
              "4                           87.0                59.0   \n",
              "\n",
              "   alamine aminotransferase  aspartate aminotransferase  \\\n",
              "0                      17.0                        19.0   \n",
              "1                      27.0                        20.0   \n",
              "2                      70.0                        32.0   \n",
              "3                      28.0                        16.0   \n",
              "4                      37.0                        27.0   \n",
              "\n",
              "   gamma-glutamyl transpeptidase  media de bebidas alchólicas por día  \\\n",
              "0                           19.0                                  6.0   \n",
              "1                           15.0                                  0.5   \n",
              "2                           84.0                                  7.0   \n",
              "3                           17.0                                  0.5   \n",
              "4                           34.0                                  2.0   \n",
              "\n",
              "   condición del paciente  \n",
              "0                       2  \n",
              "1                       1  \n",
              "2                       1  \n",
              "3                       1  \n",
              "4                       2  "
            ]
          },
          "metadata": {
            "tags": []
          },
          "execution_count": 9
        }
      ]
    },
    {
      "cell_type": "code",
      "metadata": {
        "id": "gHIKyaev3hGS",
        "colab_type": "code",
        "colab": {},
        "outputId": "d08ccabc-c7a8-4491-b532-f0deb6c28823"
      },
      "source": [
        "bupa_prueba.count()"
      ],
      "execution_count": null,
      "outputs": [
        {
          "output_type": "execute_result",
          "data": {
            "text/plain": [
              "media del volúmen corpusculas          104\n",
              "fosfatasa alcalina                     104\n",
              "alamine aminotransferase               104\n",
              "aspartate aminotransferase             104\n",
              "gamma-glutamyl transpeptidase          104\n",
              "media de bebidas alchólicas por día    104\n",
              "condición del paciente                 104\n",
              "dtype: int64"
            ]
          },
          "metadata": {
            "tags": []
          },
          "execution_count": 10
        }
      ]
    },
    {
      "cell_type": "markdown",
      "metadata": {
        "id": "u2Lbj_EE3hGU",
        "colab_type": "text"
      },
      "source": [
        "____\n",
        "[Ir a inicio](#beginning)"
      ]
    },
    {
      "cell_type": "markdown",
      "metadata": {
        "id": "QfFkIuJ73hGV",
        "colab_type": "text"
      },
      "source": [
        "<a id='part1'></a>\n",
        "## Discretización"
      ]
    },
    {
      "cell_type": "markdown",
      "metadata": {
        "id": "FBl1JUtT3hGV",
        "colab_type": "text"
      },
      "source": [
        "Es un método que transforma datos cuantitativos en cualitativos. El proceso de aprendizaje es frecuentemente menos eficiente cuando los datos son solo cuantitativos."
      ]
    },
    {
      "cell_type": "markdown",
      "metadata": {
        "id": "Alcn1gix3hGW",
        "colab_type": "text"
      },
      "source": [
        "**Métodos Top-Down:** \n",
        "\n",
        "se inicia con una lista vac´ıa de puntos de corte y se continúan agregando nuevos puntos a la lista ‘’separando” los intervalos mientras la Discretización progresa.\n",
        "\n",
        "**Métodos Bottom-Up:**\n",
        "\n",
        "se inicia con la lista completa de todos los valores continuos de la variable como puntos de corte y se eliminan algunos de ellos ‘’juntando” los intervalos mientras la Discretización\n",
        "progresa."
      ]
    },
    {
      "cell_type": "markdown",
      "metadata": {
        "id": "-wPvHGN33hGW",
        "colab_type": "text"
      },
      "source": [
        "También se pueden dividir en:"
      ]
    },
    {
      "cell_type": "markdown",
      "metadata": {
        "id": "OyzGtREk3hGX",
        "colab_type": "text"
      },
      "source": [
        "**Discretización Dinámica:** algunos algoritmos de clasificación tienen incorporados mecanismos para discretizar atributos continuos (por ejemplo, árboles de decisión). Los atributos continuos son discretizados durante el proceso de clasificación.\n",
        "\n",
        "**Discretización Estática:** Es un paso más en el preprocesamiento de datos. Los atributos continuos son previamente discretizados antes de la tarea de clasificación.\n",
        "\n",
        "A considerar:\n",
        "\n",
        "- No existe una ventaja clara de algunos de los métodos (Dougherty, Kohavi, and Sahami, 1995).\n",
        "- También es conocido como ‘’Binning”."
      ]
    },
    {
      "cell_type": "markdown",
      "metadata": {
        "id": "ucAAsq8I3hGX",
        "colab_type": "text"
      },
      "source": [
        "____\n",
        "[Ir a inicio](#beginning)"
      ]
    },
    {
      "cell_type": "markdown",
      "metadata": {
        "id": "ZTVWWyjN3hGY",
        "colab_type": "text"
      },
      "source": [
        "<a id='part2'></a>\n",
        "## Escalado de variables regresoras"
      ]
    },
    {
      "cell_type": "markdown",
      "metadata": {
        "id": "X5lIjzJV3hGY",
        "colab_type": "text"
      },
      "source": [
        "El **escalado de variables regresoras** es un paso crucial en el preprocesamiento de datos. Los algoritmos de optimización y aprendizaje automático funcionan mucho mejor si las características están en la misma escala."
      ]
    },
    {
      "cell_type": "markdown",
      "metadata": {
        "id": "-NZ7BKyD3hGZ",
        "colab_type": "text"
      },
      "source": [
        "**Nota:** los árboles de decisión y random forest son dos de los pocos algoritmos de aprendizaje automático en los cuales no debemos preocuparnos por el escalado de características. "
      ]
    },
    {
      "cell_type": "markdown",
      "metadata": {
        "id": "cqS1Lx8g3hGZ",
        "colab_type": "text"
      },
      "source": [
        "##### normalización"
      ]
    },
    {
      "cell_type": "markdown",
      "metadata": {
        "id": "EkdpHMNV3hGZ",
        "colab_type": "text"
      },
      "source": [
        "La normalización se refiere al reescalado de las características en un rango de [0,1], que es un caso especial de **escalado min-max**"
      ]
    },
    {
      "cell_type": "markdown",
      "metadata": {
        "id": "BIcbhpq_3hGa",
        "colab_type": "text"
      },
      "source": [
        "Para normalizar nuestros datos, podemos sencillamente aplicar el escalado min-max a cada columna de características, donde el nuevo valor $x_{norm}^{(i)}$ de una muestra $x^{(i)}$ puede ser calculado del modo siguiente:"
      ]
    },
    {
      "cell_type": "markdown",
      "metadata": {
        "id": "FslniwU63hGa",
        "colab_type": "text"
      },
      "source": [
        "\\begin{align*}\n",
        "x_{norm}^{(i)} =  \\frac{x^{(i)}+x_{min}}{x_{max}+x_{min}}\n",
        "\\end{align*}"
      ]
    },
    {
      "cell_type": "markdown",
      "metadata": {
        "id": "KpdZifvZ3hGb",
        "colab_type": "text"
      },
      "source": [
        "En este caso, $x^{(i)}$ es una muestra concreta, $x_{min}$ es el valor más pequeño en una columna de características, y $x_{max}$ es el valor más grande."
      ]
    },
    {
      "cell_type": "markdown",
      "metadata": {
        "id": "Nyg4Oejw3hGb",
        "colab_type": "text"
      },
      "source": [
        "El procedimiento de escalado min-max está implementado en scikit learn y se puede utilizar del modo siguiente:"
      ]
    },
    {
      "cell_type": "code",
      "metadata": {
        "id": "FZGMMXYM3hGb",
        "colab_type": "code",
        "colab": {}
      },
      "source": [
        "from sklearn.preprocessing import MinMaxScaler"
      ],
      "execution_count": null,
      "outputs": []
    },
    {
      "cell_type": "code",
      "metadata": {
        "id": "Xfg9mrfH3hGe",
        "colab_type": "code",
        "colab": {},
        "outputId": "4ec783b1-4279-4172-8b6b-470b47ab495f"
      },
      "source": [
        "#Datos de entrenamiento\n",
        "mms = MinMaxScaler()\n",
        "x_train_norm = mms.fit_transform(bupa_entrenamiento.iloc[:, 0:6])\n",
        "x_t_norm= pd.DataFrame(x_train_norm, columns=[\"media del volúmen corpusculas\", \n",
        "                                              \"fosfatasa alcalina\", \"alamine aminotransferase\",\n",
        "                                              \"aspartate aminotransferase\", \n",
        "                                              \"gamma-glutamyl transpeptidase\", \n",
        "                                              \"media de bebidas alchólicas por día\"])\n",
        "bupa_entrenamiento_norm = pd.concat([x_t_norm, bupa_entrenamiento.iloc[:,6]], axis=1)\n",
        "bupa_entrenamiento_norm.head()"
      ],
      "execution_count": null,
      "outputs": [
        {
          "output_type": "execute_result",
          "data": {
            "text/html": [
              "<div>\n",
              "<style scoped>\n",
              "    .dataframe tbody tr th:only-of-type {\n",
              "        vertical-align: middle;\n",
              "    }\n",
              "\n",
              "    .dataframe tbody tr th {\n",
              "        vertical-align: top;\n",
              "    }\n",
              "\n",
              "    .dataframe thead th {\n",
              "        text-align: right;\n",
              "    }\n",
              "</style>\n",
              "<table border=\"1\" class=\"dataframe\">\n",
              "  <thead>\n",
              "    <tr style=\"text-align: right;\">\n",
              "      <th></th>\n",
              "      <th>media del volúmen corpusculas</th>\n",
              "      <th>fosfatasa alcalina</th>\n",
              "      <th>alamine aminotransferase</th>\n",
              "      <th>aspartate aminotransferase</th>\n",
              "      <th>gamma-glutamyl transpeptidase</th>\n",
              "      <th>media de bebidas alchólicas por día</th>\n",
              "      <th>condición del paciente</th>\n",
              "    </tr>\n",
              "  </thead>\n",
              "  <tbody>\n",
              "    <tr>\n",
              "      <th>0</th>\n",
              "      <td>0.605263</td>\n",
              "      <td>0.860870</td>\n",
              "      <td>0.200000</td>\n",
              "      <td>0.311688</td>\n",
              "      <td>0.126712</td>\n",
              "      <td>0.03125</td>\n",
              "      <td>2</td>\n",
              "    </tr>\n",
              "    <tr>\n",
              "      <th>1</th>\n",
              "      <td>0.578947</td>\n",
              "      <td>0.373913</td>\n",
              "      <td>0.146667</td>\n",
              "      <td>0.220779</td>\n",
              "      <td>0.013699</td>\n",
              "      <td>0.12500</td>\n",
              "      <td>1</td>\n",
              "    </tr>\n",
              "    <tr>\n",
              "      <th>2</th>\n",
              "      <td>0.500000</td>\n",
              "      <td>0.513043</td>\n",
              "      <td>0.106667</td>\n",
              "      <td>0.207792</td>\n",
              "      <td>0.047945</td>\n",
              "      <td>0.03125</td>\n",
              "      <td>2</td>\n",
              "    </tr>\n",
              "    <tr>\n",
              "      <th>3</th>\n",
              "      <td>0.657895</td>\n",
              "      <td>0.382609</td>\n",
              "      <td>0.200000</td>\n",
              "      <td>0.181818</td>\n",
              "      <td>0.102740</td>\n",
              "      <td>0.12500</td>\n",
              "      <td>1</td>\n",
              "    </tr>\n",
              "    <tr>\n",
              "      <th>4</th>\n",
              "      <td>0.447368</td>\n",
              "      <td>0.217391</td>\n",
              "      <td>0.146667</td>\n",
              "      <td>0.129870</td>\n",
              "      <td>0.023973</td>\n",
              "      <td>0.03125</td>\n",
              "      <td>1</td>\n",
              "    </tr>\n",
              "  </tbody>\n",
              "</table>\n",
              "</div>"
            ],
            "text/plain": [
              "   media del volúmen corpusculas  fosfatasa alcalina  \\\n",
              "0                       0.605263            0.860870   \n",
              "1                       0.578947            0.373913   \n",
              "2                       0.500000            0.513043   \n",
              "3                       0.657895            0.382609   \n",
              "4                       0.447368            0.217391   \n",
              "\n",
              "   alamine aminotransferase  aspartate aminotransferase  \\\n",
              "0                  0.200000                    0.311688   \n",
              "1                  0.146667                    0.220779   \n",
              "2                  0.106667                    0.207792   \n",
              "3                  0.200000                    0.181818   \n",
              "4                  0.146667                    0.129870   \n",
              "\n",
              "   gamma-glutamyl transpeptidase  media de bebidas alchólicas por día  \\\n",
              "0                       0.126712                              0.03125   \n",
              "1                       0.013699                              0.12500   \n",
              "2                       0.047945                              0.03125   \n",
              "3                       0.102740                              0.12500   \n",
              "4                       0.023973                              0.03125   \n",
              "\n",
              "   condición del paciente  \n",
              "0                       2  \n",
              "1                       1  \n",
              "2                       2  \n",
              "3                       1  \n",
              "4                       1  "
            ]
          },
          "metadata": {
            "tags": []
          },
          "execution_count": 12
        }
      ]
    },
    {
      "cell_type": "code",
      "metadata": {
        "id": "0848NHGv3hGh",
        "colab_type": "code",
        "colab": {},
        "outputId": "de292cfd-7f9b-474f-febc-7242273be6a5"
      },
      "source": [
        "#Datos de prueba\n",
        "mms = MinMaxScaler()\n",
        "x_test_norm = mms.fit_transform(bupa_prueba.iloc[:, 0:6])\n",
        "x_test_norm= pd.DataFrame(x_test_norm, columns=[\"media del volúmen corpusculas\", \n",
        "                                              \"fosfatasa alcalina\", \"alamine aminotransferase\",\n",
        "                                              \"aspartate aminotransferase\", \n",
        "                                              \"gamma-glutamyl transpeptidase\", \n",
        "                                              \"media de bebidas alchólicas por día\"])\n",
        "bupa_prueba_norm = pd.concat([x_test_norm, bupa_prueba.iloc[:,6]], axis=1)\n",
        "bupa_prueba_norm.head()"
      ],
      "execution_count": null,
      "outputs": [
        {
          "output_type": "execute_result",
          "data": {
            "text/html": [
              "<div>\n",
              "<style scoped>\n",
              "    .dataframe tbody tr th:only-of-type {\n",
              "        vertical-align: middle;\n",
              "    }\n",
              "\n",
              "    .dataframe tbody tr th {\n",
              "        vertical-align: top;\n",
              "    }\n",
              "\n",
              "    .dataframe thead th {\n",
              "        text-align: right;\n",
              "    }\n",
              "</style>\n",
              "<table border=\"1\" class=\"dataframe\">\n",
              "  <thead>\n",
              "    <tr style=\"text-align: right;\">\n",
              "      <th></th>\n",
              "      <th>media del volúmen corpusculas</th>\n",
              "      <th>fosfatasa alcalina</th>\n",
              "      <th>alamine aminotransferase</th>\n",
              "      <th>aspartate aminotransferase</th>\n",
              "      <th>gamma-glutamyl transpeptidase</th>\n",
              "      <th>media de bebidas alchólicas por día</th>\n",
              "      <th>condición del paciente</th>\n",
              "    </tr>\n",
              "  </thead>\n",
              "  <tbody>\n",
              "    <tr>\n",
              "      <th>0</th>\n",
              "      <td>0.40</td>\n",
              "      <td>0.420455</td>\n",
              "      <td>0.160494</td>\n",
              "      <td>0.157143</td>\n",
              "      <td>0.070707</td>\n",
              "      <td>0.300</td>\n",
              "      <td>2</td>\n",
              "    </tr>\n",
              "    <tr>\n",
              "      <th>1</th>\n",
              "      <td>0.60</td>\n",
              "      <td>0.636364</td>\n",
              "      <td>0.283951</td>\n",
              "      <td>0.171429</td>\n",
              "      <td>0.050505</td>\n",
              "      <td>0.025</td>\n",
              "      <td>1</td>\n",
              "    </tr>\n",
              "    <tr>\n",
              "      <th>2</th>\n",
              "      <td>0.50</td>\n",
              "      <td>0.500000</td>\n",
              "      <td>0.814815</td>\n",
              "      <td>0.342857</td>\n",
              "      <td>0.398990</td>\n",
              "      <td>0.350</td>\n",
              "      <td>1</td>\n",
              "    </tr>\n",
              "    <tr>\n",
              "      <th>3</th>\n",
              "      <td>0.20</td>\n",
              "      <td>0.500000</td>\n",
              "      <td>0.296296</td>\n",
              "      <td>0.114286</td>\n",
              "      <td>0.060606</td>\n",
              "      <td>0.025</td>\n",
              "      <td>1</td>\n",
              "    </tr>\n",
              "    <tr>\n",
              "      <th>4</th>\n",
              "      <td>0.25</td>\n",
              "      <td>0.272727</td>\n",
              "      <td>0.407407</td>\n",
              "      <td>0.271429</td>\n",
              "      <td>0.146465</td>\n",
              "      <td>0.100</td>\n",
              "      <td>2</td>\n",
              "    </tr>\n",
              "  </tbody>\n",
              "</table>\n",
              "</div>"
            ],
            "text/plain": [
              "   media del volúmen corpusculas  fosfatasa alcalina  \\\n",
              "0                           0.40            0.420455   \n",
              "1                           0.60            0.636364   \n",
              "2                           0.50            0.500000   \n",
              "3                           0.20            0.500000   \n",
              "4                           0.25            0.272727   \n",
              "\n",
              "   alamine aminotransferase  aspartate aminotransferase  \\\n",
              "0                  0.160494                    0.157143   \n",
              "1                  0.283951                    0.171429   \n",
              "2                  0.814815                    0.342857   \n",
              "3                  0.296296                    0.114286   \n",
              "4                  0.407407                    0.271429   \n",
              "\n",
              "   gamma-glutamyl transpeptidase  media de bebidas alchólicas por día  \\\n",
              "0                       0.070707                                0.300   \n",
              "1                       0.050505                                0.025   \n",
              "2                       0.398990                                0.350   \n",
              "3                       0.060606                                0.025   \n",
              "4                       0.146465                                0.100   \n",
              "\n",
              "   condición del paciente  \n",
              "0                       2  \n",
              "1                       1  \n",
              "2                       1  \n",
              "3                       1  \n",
              "4                       2  "
            ]
          },
          "metadata": {
            "tags": []
          },
          "execution_count": 13
        }
      ]
    },
    {
      "cell_type": "markdown",
      "metadata": {
        "id": "8VdghxEx3hGk",
        "colab_type": "text"
      },
      "source": [
        "##### Estandarización"
      ]
    },
    {
      "cell_type": "markdown",
      "metadata": {
        "id": "pujmrY-Z3hGk",
        "colab_type": "text"
      },
      "source": [
        "Aunque la normalización mediante min-max es una técnica muy frecuente cuando necesitamos valores en un intervalo limitado, la **estandarización** puede ser más práctica para los algoritmos de Machine Learning, especialmente para algoritmos de optimización como el descenso del gradiente. La razón es que muchos modelos, como la **regresión logística** y las **máquinas de vectores de soporte** inicializan los pesos a 0 o valores más pequeños cercanos a 0. Mediante la **estadarización**, centramos las columnas de características a una media con una desviación estándar de 1, por lo que las columnas de características toman la forma de una distribución normal, lo que hace más fácil aprender los pesos. Además, la estandarización mantiene información útil sobre **outliers** y hace que el algoritmo sea más sencible a ellos en comparación con el escalado min-max, que escala los datos a un rango limitado de valores."
      ]
    },
    {
      "cell_type": "markdown",
      "metadata": {
        "id": "SeXv-ecD3hGk",
        "colab_type": "text"
      },
      "source": [
        "El procedimiento para la **estandarización** puede ser expresado mediante la ecuación:"
      ]
    },
    {
      "cell_type": "markdown",
      "metadata": {
        "id": "U_sp1g2_3hGl",
        "colab_type": "text"
      },
      "source": [
        "\\begin{align*}\n",
        "x_{std}^{(i)} =  \\frac{x^{(i)}+\\mu_x}{\\sigma_x}\n",
        "\\end{align*}"
      ]
    },
    {
      "cell_type": "markdown",
      "metadata": {
        "id": "vZVT1M2P3hGl",
        "colab_type": "text"
      },
      "source": [
        "Aquí, $\\mu_x$ es la muestra media de una columna de características concreta y $\\sigma_x$, es la correspondiente desviación estándar."
      ]
    },
    {
      "cell_type": "code",
      "metadata": {
        "id": "zg16scfS3hGm",
        "colab_type": "code",
        "colab": {}
      },
      "source": [
        "from sklearn.preprocessing import StandardScaler"
      ],
      "execution_count": null,
      "outputs": []
    },
    {
      "cell_type": "code",
      "metadata": {
        "id": "vv058_wI3hGo",
        "colab_type": "code",
        "colab": {},
        "outputId": "104192c1-4bdc-4ea1-9728-1c85fc2a4a75"
      },
      "source": [
        "#Datos de entrenamiento\n",
        "stdsc = StandardScaler()\n",
        "X_train_std = stdsc.fit_transform(bupa_entrenamiento.iloc[:, 0:6])\n",
        "x_train_std= pd.DataFrame(X_train_std, columns=[\"media del volúmen corpusculas\", \n",
        "                                              \"fosfatasa alcalina\", \"alamine aminotransferase\",\n",
        "                                              \"aspartate aminotransferase\", \n",
        "                                              \"gamma-glutamyl transpeptidase\", \n",
        "                                              \"media de bebidas alchólicas por día\"])\n",
        "bupa_entrenamiento_std = pd.concat([x_train_std, bupa_entrenamiento.iloc[:,6]], axis=1)\n",
        "bupa_entrenamiento_std.head()"
      ],
      "execution_count": null,
      "outputs": [
        {
          "output_type": "execute_result",
          "data": {
            "text/html": [
              "<div>\n",
              "<style scoped>\n",
              "    .dataframe tbody tr th:only-of-type {\n",
              "        vertical-align: middle;\n",
              "    }\n",
              "\n",
              "    .dataframe tbody tr th {\n",
              "        vertical-align: top;\n",
              "    }\n",
              "\n",
              "    .dataframe thead th {\n",
              "        text-align: right;\n",
              "    }\n",
              "</style>\n",
              "<table border=\"1\" class=\"dataframe\">\n",
              "  <thead>\n",
              "    <tr style=\"text-align: right;\">\n",
              "      <th></th>\n",
              "      <th>media del volúmen corpusculas</th>\n",
              "      <th>fosfatasa alcalina</th>\n",
              "      <th>alamine aminotransferase</th>\n",
              "      <th>aspartate aminotransferase</th>\n",
              "      <th>gamma-glutamyl transpeptidase</th>\n",
              "      <th>media de bebidas alchólicas por día</th>\n",
              "      <th>condición del paciente</th>\n",
              "    </tr>\n",
              "  </thead>\n",
              "  <tbody>\n",
              "    <tr>\n",
              "      <th>0</th>\n",
              "      <td>-0.456074</td>\n",
              "      <td>2.847468</td>\n",
              "      <td>0.211006</td>\n",
              "      <td>0.472355</td>\n",
              "      <td>0.137783</td>\n",
              "      <td>-0.907918</td>\n",
              "      <td>2</td>\n",
              "    </tr>\n",
              "    <tr>\n",
              "      <th>1</th>\n",
              "      <td>-0.674591</td>\n",
              "      <td>-0.185875</td>\n",
              "      <td>-0.177923</td>\n",
              "      <td>-0.242320</td>\n",
              "      <td>-0.755278</td>\n",
              "      <td>-0.414365</td>\n",
              "      <td>1</td>\n",
              "    </tr>\n",
              "    <tr>\n",
              "      <th>2</th>\n",
              "      <td>-1.330141</td>\n",
              "      <td>0.680794</td>\n",
              "      <td>-0.469620</td>\n",
              "      <td>-0.344417</td>\n",
              "      <td>-0.484654</td>\n",
              "      <td>-0.907918</td>\n",
              "      <td>2</td>\n",
              "    </tr>\n",
              "    <tr>\n",
              "      <th>3</th>\n",
              "      <td>-0.019041</td>\n",
              "      <td>-0.131709</td>\n",
              "      <td>0.211006</td>\n",
              "      <td>-0.548610</td>\n",
              "      <td>-0.051654</td>\n",
              "      <td>-0.414365</td>\n",
              "      <td>1</td>\n",
              "    </tr>\n",
              "    <tr>\n",
              "      <th>4</th>\n",
              "      <td>-1.767174</td>\n",
              "      <td>-1.160879</td>\n",
              "      <td>-0.177923</td>\n",
              "      <td>-0.956996</td>\n",
              "      <td>-0.674091</td>\n",
              "      <td>-0.907918</td>\n",
              "      <td>1</td>\n",
              "    </tr>\n",
              "  </tbody>\n",
              "</table>\n",
              "</div>"
            ],
            "text/plain": [
              "   media del volúmen corpusculas  fosfatasa alcalina  \\\n",
              "0                      -0.456074            2.847468   \n",
              "1                      -0.674591           -0.185875   \n",
              "2                      -1.330141            0.680794   \n",
              "3                      -0.019041           -0.131709   \n",
              "4                      -1.767174           -1.160879   \n",
              "\n",
              "   alamine aminotransferase  aspartate aminotransferase  \\\n",
              "0                  0.211006                    0.472355   \n",
              "1                 -0.177923                   -0.242320   \n",
              "2                 -0.469620                   -0.344417   \n",
              "3                  0.211006                   -0.548610   \n",
              "4                 -0.177923                   -0.956996   \n",
              "\n",
              "   gamma-glutamyl transpeptidase  media de bebidas alchólicas por día  \\\n",
              "0                       0.137783                            -0.907918   \n",
              "1                      -0.755278                            -0.414365   \n",
              "2                      -0.484654                            -0.907918   \n",
              "3                      -0.051654                            -0.414365   \n",
              "4                      -0.674091                            -0.907918   \n",
              "\n",
              "   condición del paciente  \n",
              "0                       2  \n",
              "1                       1  \n",
              "2                       2  \n",
              "3                       1  \n",
              "4                       1  "
            ]
          },
          "metadata": {
            "tags": []
          },
          "execution_count": 15
        }
      ]
    },
    {
      "cell_type": "code",
      "metadata": {
        "id": "FZhGVsX03hGq",
        "colab_type": "code",
        "colab": {},
        "outputId": "2c3d0106-d316-4a23-94bb-1bb1b95fcf69"
      },
      "source": [
        "#Datos de prueba\n",
        "stdsc = StandardScaler()\n",
        "X_test_std = stdsc.fit_transform(bupa_prueba.iloc[:, 0:6])\n",
        "X_test_std= pd.DataFrame(X_test_std, columns=[\"media del volúmen corpusculas\", \n",
        "                                              \"fosfatasa alcalina\", \"alamine aminotransferase\",\n",
        "                                              \"aspartate aminotransferase\", \n",
        "                                              \"gamma-glutamyl transpeptidase\", \n",
        "                                              \"media de bebidas alchólicas por día\"])\n",
        "bupa_prueba_std = pd.concat([X_test_std, bupa_prueba.iloc[:,6]], axis=1)\n",
        "bupa_prueba_std.head()"
      ],
      "execution_count": null,
      "outputs": [
        {
          "output_type": "execute_result",
          "data": {
            "text/html": [
              "<div>\n",
              "<style scoped>\n",
              "    .dataframe tbody tr th:only-of-type {\n",
              "        vertical-align: middle;\n",
              "    }\n",
              "\n",
              "    .dataframe tbody tr th {\n",
              "        vertical-align: top;\n",
              "    }\n",
              "\n",
              "    .dataframe thead th {\n",
              "        text-align: right;\n",
              "    }\n",
              "</style>\n",
              "<table border=\"1\" class=\"dataframe\">\n",
              "  <thead>\n",
              "    <tr style=\"text-align: right;\">\n",
              "      <th></th>\n",
              "      <th>media del volúmen corpusculas</th>\n",
              "      <th>fosfatasa alcalina</th>\n",
              "      <th>alamine aminotransferase</th>\n",
              "      <th>aspartate aminotransferase</th>\n",
              "      <th>gamma-glutamyl transpeptidase</th>\n",
              "      <th>media de bebidas alchólicas por día</th>\n",
              "      <th>condición del paciente</th>\n",
              "    </tr>\n",
              "  </thead>\n",
              "  <tbody>\n",
              "    <tr>\n",
              "      <th>0</th>\n",
              "      <td>-0.079586</td>\n",
              "      <td>0.062137</td>\n",
              "      <td>-0.768180</td>\n",
              "      <td>-0.591918</td>\n",
              "      <td>-0.513063</td>\n",
              "      <td>0.537255</td>\n",
              "      <td>2</td>\n",
              "    </tr>\n",
              "    <tr>\n",
              "      <th>1</th>\n",
              "      <td>0.894175</td>\n",
              "      <td>1.120608</td>\n",
              "      <td>-0.168850</td>\n",
              "      <td>-0.497501</td>\n",
              "      <td>-0.604391</td>\n",
              "      <td>-0.875664</td>\n",
              "      <td>1</td>\n",
              "    </tr>\n",
              "    <tr>\n",
              "      <th>2</th>\n",
              "      <td>0.407294</td>\n",
              "      <td>0.452100</td>\n",
              "      <td>2.408269</td>\n",
              "      <td>0.635494</td>\n",
              "      <td>0.971022</td>\n",
              "      <td>0.794150</td>\n",
              "      <td>1</td>\n",
              "    </tr>\n",
              "    <tr>\n",
              "      <th>3</th>\n",
              "      <td>-1.053347</td>\n",
              "      <td>0.452100</td>\n",
              "      <td>-0.108917</td>\n",
              "      <td>-0.875167</td>\n",
              "      <td>-0.558727</td>\n",
              "      <td>-0.875664</td>\n",
              "      <td>1</td>\n",
              "    </tr>\n",
              "    <tr>\n",
              "      <th>4</th>\n",
              "      <td>-0.809907</td>\n",
              "      <td>-0.662080</td>\n",
              "      <td>0.430480</td>\n",
              "      <td>0.163413</td>\n",
              "      <td>-0.170582</td>\n",
              "      <td>-0.490323</td>\n",
              "      <td>2</td>\n",
              "    </tr>\n",
              "  </tbody>\n",
              "</table>\n",
              "</div>"
            ],
            "text/plain": [
              "   media del volúmen corpusculas  fosfatasa alcalina  \\\n",
              "0                      -0.079586            0.062137   \n",
              "1                       0.894175            1.120608   \n",
              "2                       0.407294            0.452100   \n",
              "3                      -1.053347            0.452100   \n",
              "4                      -0.809907           -0.662080   \n",
              "\n",
              "   alamine aminotransferase  aspartate aminotransferase  \\\n",
              "0                 -0.768180                   -0.591918   \n",
              "1                 -0.168850                   -0.497501   \n",
              "2                  2.408269                    0.635494   \n",
              "3                 -0.108917                   -0.875167   \n",
              "4                  0.430480                    0.163413   \n",
              "\n",
              "   gamma-glutamyl transpeptidase  media de bebidas alchólicas por día  \\\n",
              "0                      -0.513063                             0.537255   \n",
              "1                      -0.604391                            -0.875664   \n",
              "2                       0.971022                             0.794150   \n",
              "3                      -0.558727                            -0.875664   \n",
              "4                      -0.170582                            -0.490323   \n",
              "\n",
              "   condición del paciente  \n",
              "0                       2  \n",
              "1                       1  \n",
              "2                       1  \n",
              "3                       1  \n",
              "4                       2  "
            ]
          },
          "metadata": {
            "tags": []
          },
          "execution_count": 16
        }
      ]
    },
    {
      "cell_type": "markdown",
      "metadata": {
        "id": "KrFIE42x3hGt",
        "colab_type": "text"
      },
      "source": [
        "La siguiente sintaxis muestra la diferencia entre las dos técnicas de escalado de características que más se utilizan, **estandarización** y **normalización**, en un sencillo ejemplo:"
      ]
    },
    {
      "cell_type": "code",
      "metadata": {
        "id": "rlt-BoAi3hGt",
        "colab_type": "code",
        "colab": {}
      },
      "source": [
        "import numpy as np"
      ],
      "execution_count": null,
      "outputs": []
    },
    {
      "cell_type": "code",
      "metadata": {
        "id": "RTzsj2eg3hGv",
        "colab_type": "code",
        "colab": {},
        "outputId": "6bfb19cf-5886-4428-ab6a-8656690abe9e"
      },
      "source": [
        "ej = np.array([0, 1, 2, 3, 4, 5])\n",
        "\n",
        "print('estandarización:', (ej - ej.mean()) / ej.std())\n",
        "\n",
        "# Please note that pandas uses ddof=1 (sample standard deviation) \n",
        "# by default, whereas NumPy's std method and the StandardScaler\n",
        "# uses ddof=0 (population standard deviation)\n",
        "\n",
        "# normalize\n",
        "print('normalización:', (ej - ej.min()) / (ej.max() - ej.min()))"
      ],
      "execution_count": null,
      "outputs": [
        {
          "output_type": "stream",
          "text": [
            "estandarización: [-1.46385011 -0.87831007 -0.29277002  0.29277002  0.87831007  1.46385011]\n",
            "normalización: [0.  0.2 0.4 0.6 0.8 1. ]\n"
          ],
          "name": "stdout"
        }
      ]
    },
    {
      "cell_type": "markdown",
      "metadata": {
        "id": "aa3DXg9Y3hGx",
        "colab_type": "text"
      },
      "source": [
        "____\n",
        "[Ir a inicio](#beginning)"
      ]
    },
    {
      "cell_type": "markdown",
      "metadata": {
        "id": "jKdqu4xy3hGy",
        "colab_type": "text"
      },
      "source": [
        "<a id='part3'></a>\n",
        "## Discretización por intervalos de igual amplitud"
      ]
    },
    {
      "cell_type": "markdown",
      "metadata": {
        "id": "_FKUrRnE3hGy",
        "colab_type": "text"
      },
      "source": [
        "##### kbins: Sturges"
      ]
    },
    {
      "cell_type": "code",
      "metadata": {
        "id": "rI1NEtzl3hGz",
        "colab_type": "code",
        "colab": {}
      },
      "source": [
        "from sklearn.preprocessing import KBinsDiscretizer\n",
        "import math"
      ],
      "execution_count": null,
      "outputs": []
    },
    {
      "cell_type": "code",
      "metadata": {
        "id": "EyftpioC3hG1",
        "colab_type": "code",
        "colab": {},
        "outputId": "d8f7e479-c366-45b8-ec6d-3c28d90293d7"
      },
      "source": [
        "n = len(bupa_entrenamiento)\n",
        "k = 1 + math.log2(n)\n",
        "k=round(k,0)\n",
        "k"
      ],
      "execution_count": null,
      "outputs": [
        {
          "output_type": "execute_result",
          "data": {
            "text/plain": [
              "9.0"
            ]
          },
          "metadata": {
            "tags": []
          },
          "execution_count": 20
        }
      ]
    },
    {
      "cell_type": "markdown",
      "metadata": {
        "id": "tIhrRRo93hG4",
        "colab_type": "text"
      },
      "source": [
        "##### Proceso:"
      ]
    },
    {
      "cell_type": "markdown",
      "metadata": {
        "id": "mziX9JJA3hG4",
        "colab_type": "text"
      },
      "source": [
        "- Es similar a la elaboración de tablas de frecuencia y de contingencia.\n",
        "- Se divide el rango de la variable en k intervalos de igual tamaño.\n",
        "- k es determinado por alguna regla, para la aplicación consideramos sturges."
      ]
    },
    {
      "cell_type": "markdown",
      "metadata": {
        "id": "72SdtxeF3hG5",
        "colab_type": "text"
      },
      "source": [
        "**Desventajas:** No supervisado. Sensible a outliers.\n",
        "\n",
        "**Ventajas:** Fácil de implementar. Produce una abstracción de los datos razonable."
      ]
    },
    {
      "cell_type": "code",
      "metadata": {
        "id": "jR_e8_8R3hG5",
        "colab_type": "code",
        "colab": {}
      },
      "source": [
        "est = KBinsDiscretizer(n_bins=9, encode='ordinal', strategy=\"uniform\")"
      ],
      "execution_count": null,
      "outputs": []
    },
    {
      "cell_type": "code",
      "metadata": {
        "id": "QJO_1zJk3hG7",
        "colab_type": "code",
        "colab": {}
      },
      "source": [
        "nuevo = est.fit_transform(bupa_entrenamiento[['media del volúmen corpusculas']])"
      ],
      "execution_count": null,
      "outputs": []
    },
    {
      "cell_type": "code",
      "metadata": {
        "id": "TDEF9qwq3hG9",
        "colab_type": "code",
        "colab": {},
        "outputId": "bb4a9764-e8d1-4d78-d3fc-4e982338d8f3"
      },
      "source": [
        "xs = pd.DataFrame(nuevo)\n",
        "xs.columns = ['corpusculas']\n",
        "xs.groupby('corpusculas').size().plot(kind='bar')"
      ],
      "execution_count": null,
      "outputs": [
        {
          "output_type": "execute_result",
          "data": {
            "text/plain": [
              "<matplotlib.axes._subplots.AxesSubplot at 0x24041a754a8>"
            ]
          },
          "metadata": {
            "tags": []
          },
          "execution_count": 23
        },
        {
          "output_type": "display_data",
          "data": {
            "image/png": "[encoded data removed]",
            "text/plain": [
              "<Figure size 432x288 with 1 Axes>"
            ]
          },
          "metadata": {
            "tags": [],
            "needs_background": "light"
          }
        }
      ]
    },
    {
      "cell_type": "markdown",
      "metadata": {
        "id": "j5mcRxXm3hG_",
        "colab_type": "text"
      },
      "source": [
        "____\n",
        "[Ir a inicio](#beginning)"
      ]
    },
    {
      "cell_type": "markdown",
      "metadata": {
        "id": "X0GFNLHc3hHA",
        "colab_type": "text"
      },
      "source": [
        "<a id='part4'></a>\n",
        "## Discretización Cuantil"
      ]
    },
    {
      "cell_type": "markdown",
      "metadata": {
        "id": "WZuyNwzz3hHA",
        "colab_type": "text"
      },
      "source": [
        "##### Proceso:"
      ]
    },
    {
      "cell_type": "markdown",
      "metadata": {
        "id": "aman4SKE3hHB",
        "colab_type": "text"
      },
      "source": [
        "- Se debe dividir el rango en k intervalos.\n",
        "- Para la construcción de los intervalos se debe tener en cuenta la discretización por cuantil.\n",
        "- No se utiliza la información de la clase."
      ]
    },
    {
      "cell_type": "code",
      "metadata": {
        "id": "2v8y-olj3hHB",
        "colab_type": "code",
        "colab": {}
      },
      "source": [
        "from sklearn.preprocessing import KBinsDiscretizer"
      ],
      "execution_count": null,
      "outputs": []
    },
    {
      "cell_type": "code",
      "metadata": {
        "id": "2YbkDw8l3hHE",
        "colab_type": "code",
        "colab": {}
      },
      "source": [
        "estq = KBinsDiscretizer(n_bins=4, encode='ordinal', strategy='quantile')"
      ],
      "execution_count": null,
      "outputs": []
    },
    {
      "cell_type": "code",
      "metadata": {
        "id": "b-V4PwCz3hHG",
        "colab_type": "code",
        "colab": {}
      },
      "source": [
        "nuevoq = estq.fit_transform(bupa_entrenamiento[['media del volúmen corpusculas']])"
      ],
      "execution_count": null,
      "outputs": []
    },
    {
      "cell_type": "code",
      "metadata": {
        "id": "POCG0jVF3hHH",
        "colab_type": "code",
        "colab": {},
        "outputId": "69741b14-eedb-4876-8490-915845630831"
      },
      "source": [
        "xq = pd.DataFrame(nuevoq)\n",
        "xq.columns = ['corpusculas']\n",
        "xq.groupby('corpusculas').size().plot(kind='bar')"
      ],
      "execution_count": null,
      "outputs": [
        {
          "output_type": "execute_result",
          "data": {
            "text/plain": [
              "<matplotlib.axes._subplots.AxesSubplot at 0x24042f481d0>"
            ]
          },
          "metadata": {
            "tags": []
          },
          "execution_count": 27
        },
        {
          "output_type": "display_data",
          "data": {
            "image/png": "[encoded data removed]",
            "text/plain": [
              "<Figure size 432x288 with 1 Axes>"
            ]
          },
          "metadata": {
            "tags": [],
            "needs_background": "light"
          }
        }
      ]
    },
    {
      "cell_type": "markdown",
      "metadata": {
        "id": "dQGwTCmS3hHJ",
        "colab_type": "text"
      },
      "source": [
        "____\n",
        "[Ir a inicio](#beginning)"
      ]
    },
    {
      "cell_type": "markdown",
      "metadata": {
        "id": "9TcfmKbU3hHK",
        "colab_type": "text"
      },
      "source": [
        "<a id='part5'></a>\n",
        "## Discretización por kmeans"
      ]
    },
    {
      "cell_type": "code",
      "metadata": {
        "id": "xwMMULwW3hHK",
        "colab_type": "code",
        "colab": {}
      },
      "source": [
        "from sklearn.preprocessing import KBinsDiscretizer"
      ],
      "execution_count": null,
      "outputs": []
    },
    {
      "cell_type": "code",
      "metadata": {
        "id": "Aq_PSnHw3hHN",
        "colab_type": "code",
        "colab": {}
      },
      "source": [
        "estkmeas = KBinsDiscretizer(n_bins=4, encode='ordinal', strategy='kmeans')"
      ],
      "execution_count": null,
      "outputs": []
    },
    {
      "cell_type": "code",
      "metadata": {
        "id": "IpndMyx63hHP",
        "colab_type": "code",
        "colab": {}
      },
      "source": [
        "nuevokmeas = estkmeas.fit_transform(bupa_entrenamiento[['media del volúmen corpusculas']])"
      ],
      "execution_count": null,
      "outputs": []
    },
    {
      "cell_type": "code",
      "metadata": {
        "id": "7uwNzAi73hHT",
        "colab_type": "code",
        "colab": {},
        "outputId": "5ffe46f7-7e6d-45e6-a685-e8286072e45a"
      },
      "source": [
        "xkmeans = pd.DataFrame(nuevokmeas)\n",
        "xkmeans.columns = ['corpusculas']\n",
        "xkmeans.groupby('corpusculas').size().plot(kind='bar')"
      ],
      "execution_count": null,
      "outputs": [
        {
          "output_type": "execute_result",
          "data": {
            "text/plain": [
              "<matplotlib.axes._subplots.AxesSubplot at 0x2404351b0b8>"
            ]
          },
          "metadata": {
            "tags": []
          },
          "execution_count": 31
        },
        {
          "output_type": "display_data",
          "data": {
            "image/png": "[encoded data removed]",
            "text/plain": [
              "<Figure size 432x288 with 1 Axes>"
            ]
          },
          "metadata": {
            "tags": [],
            "needs_background": "light"
          }
        }
      ]
    },
    {
      "cell_type": "markdown",
      "metadata": {
        "id": "IqLwtleg3hHV",
        "colab_type": "text"
      },
      "source": [
        "____\n",
        "[Ir a inicio](#beginning)"
      ]
    },
    {
      "cell_type": "markdown",
      "metadata": {
        "id": "p0_AZUU53hHW",
        "colab_type": "text"
      },
      "source": [
        "## Caso practico"
      ]
    },
    {
      "cell_type": "markdown",
      "metadata": {
        "id": "OJh8k_vT3hHW",
        "colab_type": "text"
      },
      "source": [
        "Autor: Semeion, Centro de Investigación de Ciencias de la Comunicación, Roma, Italia.\n",
        "\n",
        "Fuente: [UCI] (http://archive.ics.uci.edu/ml/datasets/steel+plates+faults)\n",
        "\n",
        "Cite: Conjunto de datos proporcionado por Semeion, Centro de Investigación de Ciencias de la Comunicación, Via Sersale 117, 00128, Roma, Italia.\n",
        "\n",
        "Conjunto de datos de fallas de placas de acero\n",
        "Un conjunto de datos de fallas de placas de acero, clasificadas en 7 tipos diferentes. El objetivo era entrenar el aprendizaje automático para el reconocimiento automático de patrones.\n",
        "\n",
        "El conjunto de datos consta de 27 características que describen cada falla (ubicación, tamaño, ...) y 7 características binarias que indican el tipo de falla (en 7: Pastelería, Z_Scratch, K_Scatch, Manchas, Suciedad, Golpes, Otras Fallas). Este último se usa comúnmente como un objetivo de clasificación binaria (falla 'común' u 'otra').\n",
        "\n",
        "### Información de atributos\n",
        "* V1: X_Minimum\n",
        "* V2: X_Maximum\n",
        "* V3: Y_Mínimo\n",
        "* V4: Y_ Máximo\n",
        "* V5: Pixels_Areas\n",
        "* V6: X_Perimeter\n",
        "* V7: Y_Perímetro\n",
        "* V8: Suma_de_Luminosidad\n",
        "* V9: Mínimo_de_Luminosidad\n",
        "* V10: Máxima_de_Luminosidad\n",
        "* V11: Longitud del transportador\n",
        "* V12: TypeOfSteel_A300\n",
        "* V13: TypeOfSteel_A400\n",
        "* V14: Steel_Plate_Thickness\n",
        "* V15: Edges_Index\n",
        "* V16: índice_vacío\n",
        "* V17: Square_Index\n",
        "* V18: Outside_X_Index\n",
        "* V19: Edges_X_Index\n",
        "* V20: Edges_Y_Index\n",
        "* V21: Outside_Global_Index\n",
        "* V22: LogOfAreas\n",
        "* V23: Log_X_Index\n",
        "* V24: Log_Y_Index\n",
        "* V25: Orientation_Index\n",
        "* V26: Índice de Luminosidad\n",
        "* V27: SigmoidOfAreas\n",
        "* V28: pastelería\n",
        "* V29: Z_Scratch\n",
        "* V30: K_Scatch\n",
        "* V31: manchas\n",
        "* V32: suciedad\n",
        "* V33: golpes\n",
        "* Class: Otros_Fallas\n",
        "\n",
        "### Documentos relevantes\n",
        "1.M Buscema, S Terzi, W Tastle, A New Meta-Classifier, en NAFIPS 2010, Toronto (CANADÁ), 26-28 de julio de 2010, 978-1-4244-7858-6 / 10 © 2010 IEEE\n",
        "2.M Buscema, MetaNet: The Theory of Independent Judges, in Substance Use & Maluse, 33 (2), 439-461,1998"
      ]
    },
    {
      "cell_type": "code",
      "metadata": {
        "id": "mLxlJty5PXen",
        "colab_type": "code",
        "colab": {}
      },
      "source": [
        "import numpy as np\n",
        "import pandas as pd\n",
        "import math\n",
        "from sklearn.preprocessing import KBinsDiscretizer"
      ],
      "execution_count": 15,
      "outputs": []
    },
    {
      "cell_type": "code",
      "metadata": {
        "id": "-usvbJ-J3hHW",
        "colab_type": "code",
        "colab": {}
      },
      "source": [
        "acero = 'https://raw.githubusercontent.com/Yes197/Miscelanea/master/Ejercicios%20Basico/datos/php9xWOpn.csv'\n",
        "\n",
        "df_fall_placa_acero = pd.read_csv(acero,  sep=',')"
      ],
      "execution_count": 5,
      "outputs": []
    },
    {
      "cell_type": "code",
      "metadata": {
        "id": "XGiYE2A6Prlb",
        "colab_type": "code",
        "cellView": "both",
        "colab": {
          "base_uri": "https://localhost:8080/",
          "height": 704
        },
        "outputId": "8deaf4ba-4279-415f-dd04-fcb4eec95779"
      },
      "source": [
        "#@title Informacion Acero\n",
        "df_fall_placa_acero.info()"
      ],
      "execution_count": 6,
      "outputs": [
        {
          "output_type": "stream",
          "text": [
            "<class 'pandas.core.frame.DataFrame'>\n",
            "RangeIndex: 1941 entries, 0 to 1940\n",
            "Data columns (total 34 columns):\n",
            " #   Column  Non-Null Count  Dtype  \n",
            "---  ------  --------------  -----  \n",
            " 0   V1      1941 non-null   int64  \n",
            " 1   V2      1941 non-null   int64  \n",
            " 2   V3      1941 non-null   int64  \n",
            " 3   V4      1941 non-null   int64  \n",
            " 4   V5      1941 non-null   int64  \n",
            " 5   V6      1941 non-null   int64  \n",
            " 6   V7      1941 non-null   int64  \n",
            " 7   V8      1941 non-null   int64  \n",
            " 8   V9      1941 non-null   int64  \n",
            " 9   V10     1941 non-null   int64  \n",
            " 10  V11     1941 non-null   int64  \n",
            " 11  V12     1941 non-null   int64  \n",
            " 12  V13     1941 non-null   int64  \n",
            " 13  V14     1941 non-null   int64  \n",
            " 14  V15     1941 non-null   float64\n",
            " 15  V16     1941 non-null   float64\n",
            " 16  V17     1941 non-null   float64\n",
            " 17  V18     1941 non-null   float64\n",
            " 18  V19     1941 non-null   float64\n",
            " 19  V20     1941 non-null   float64\n",
            " 20  V21     1941 non-null   float64\n",
            " 21  V22     1941 non-null   float64\n",
            " 22  V23     1941 non-null   float64\n",
            " 23  V24     1941 non-null   float64\n",
            " 24  V25     1941 non-null   float64\n",
            " 25  V26     1941 non-null   float64\n",
            " 26  V27     1941 non-null   float64\n",
            " 27  V28     1941 non-null   int64  \n",
            " 28  V29     1941 non-null   int64  \n",
            " 29  V30     1941 non-null   int64  \n",
            " 30  V31     1941 non-null   int64  \n",
            " 31  V32     1941 non-null   int64  \n",
            " 32  V33     1941 non-null   int64  \n",
            " 33  Class   1941 non-null   int64  \n",
            "dtypes: float64(13), int64(21)\n",
            "memory usage: 515.7 KB\n"
          ],
          "name": "stdout"
        }
      ]
    },
    {
      "cell_type": "markdown",
      "metadata": {
        "id": "6lLhTjnT3hHY",
        "colab_type": "text"
      },
      "source": [
        "Actividad\n",
        "1. Normalizar solo las variables continuas\n",
        "2. Crear el dataframe de las variables normalizadas\n",
        "3. Encontrar el numero de bins con la tecnica de Sturges\n",
        "4. Discretizacion por intervalos de igual amplitud de la variable \"V9\" (Grafico de Barras)\n",
        "5. Discretizacion por cuantil de la variable \"V19\" (Grafico de barras)\n",
        "6. Discretizacion por kmeans de la variable \"V15\" (Grafico de barras)"
      ]
    },
    {
      "cell_type": "code",
      "metadata": {
        "colab_type": "code",
        "id": "EoEzbQgEVi3A",
        "colab": {}
      },
      "source": [
        "columns_continuas = ['V15','V16','V17','V18','V19','V20','V21','V22','V23','V24','V25','V26','V27']"
      ],
      "execution_count": 7,
      "outputs": []
    },
    {
      "cell_type": "code",
      "metadata": {
        "id": "Qyo5f-uaRYy5",
        "colab_type": "code",
        "colab": {
          "base_uri": "https://localhost:8080/",
          "height": 129
        },
        "outputId": "3acec843-0b5e-4c90-c335-63b5168a5b04"
      },
      "source": [
        "df_fall_placa_acero.head(2)"
      ],
      "execution_count": 8,
      "outputs": [
        {
          "output_type": "execute_result",
          "data": {
            "text/html": [
              "<div>\n",
              "<style scoped>\n",
              "    .dataframe tbody tr th:only-of-type {\n",
              "        vertical-align: middle;\n",
              "    }\n",
              "\n",
              "    .dataframe tbody tr th {\n",
              "        vertical-align: top;\n",
              "    }\n",
              "\n",
              "    .dataframe thead th {\n",
              "        text-align: right;\n",
              "    }\n",
              "</style>\n",
              "<table border=\"1\" class=\"dataframe\">\n",
              "  <thead>\n",
              "    <tr style=\"text-align: right;\">\n",
              "      <th></th>\n",
              "      <th>V1</th>\n",
              "      <th>V2</th>\n",
              "      <th>V3</th>\n",
              "      <th>V4</th>\n",
              "      <th>V5</th>\n",
              "      <th>V6</th>\n",
              "      <th>V7</th>\n",
              "      <th>V8</th>\n",
              "      <th>V9</th>\n",
              "      <th>V10</th>\n",
              "      <th>V11</th>\n",
              "      <th>V12</th>\n",
              "      <th>V13</th>\n",
              "      <th>V14</th>\n",
              "      <th>V15</th>\n",
              "      <th>V16</th>\n",
              "      <th>V17</th>\n",
              "      <th>V18</th>\n",
              "      <th>V19</th>\n",
              "      <th>V20</th>\n",
              "      <th>V21</th>\n",
              "      <th>V22</th>\n",
              "      <th>V23</th>\n",
              "      <th>V24</th>\n",
              "      <th>V25</th>\n",
              "      <th>V26</th>\n",
              "      <th>V27</th>\n",
              "      <th>V28</th>\n",
              "      <th>V29</th>\n",
              "      <th>V30</th>\n",
              "      <th>V31</th>\n",
              "      <th>V32</th>\n",
              "      <th>V33</th>\n",
              "      <th>Class</th>\n",
              "    </tr>\n",
              "  </thead>\n",
              "  <tbody>\n",
              "    <tr>\n",
              "      <th>0</th>\n",
              "      <td>42</td>\n",
              "      <td>50</td>\n",
              "      <td>270900</td>\n",
              "      <td>270944</td>\n",
              "      <td>267</td>\n",
              "      <td>17</td>\n",
              "      <td>44</td>\n",
              "      <td>24220</td>\n",
              "      <td>76</td>\n",
              "      <td>108</td>\n",
              "      <td>1687</td>\n",
              "      <td>1</td>\n",
              "      <td>0</td>\n",
              "      <td>80</td>\n",
              "      <td>0.0498</td>\n",
              "      <td>0.2415</td>\n",
              "      <td>0.1818</td>\n",
              "      <td>0.0047</td>\n",
              "      <td>0.4706</td>\n",
              "      <td>1.0000</td>\n",
              "      <td>1.0</td>\n",
              "      <td>2.4265</td>\n",
              "      <td>0.9031</td>\n",
              "      <td>1.6435</td>\n",
              "      <td>0.8182</td>\n",
              "      <td>-0.2913</td>\n",
              "      <td>0.5822</td>\n",
              "      <td>1</td>\n",
              "      <td>0</td>\n",
              "      <td>0</td>\n",
              "      <td>0</td>\n",
              "      <td>0</td>\n",
              "      <td>0</td>\n",
              "      <td>1</td>\n",
              "    </tr>\n",
              "    <tr>\n",
              "      <th>1</th>\n",
              "      <td>645</td>\n",
              "      <td>651</td>\n",
              "      <td>2538079</td>\n",
              "      <td>2538108</td>\n",
              "      <td>108</td>\n",
              "      <td>10</td>\n",
              "      <td>30</td>\n",
              "      <td>11397</td>\n",
              "      <td>84</td>\n",
              "      <td>123</td>\n",
              "      <td>1687</td>\n",
              "      <td>1</td>\n",
              "      <td>0</td>\n",
              "      <td>80</td>\n",
              "      <td>0.7647</td>\n",
              "      <td>0.3793</td>\n",
              "      <td>0.2069</td>\n",
              "      <td>0.0036</td>\n",
              "      <td>0.6000</td>\n",
              "      <td>0.9667</td>\n",
              "      <td>1.0</td>\n",
              "      <td>2.0334</td>\n",
              "      <td>0.7782</td>\n",
              "      <td>1.4624</td>\n",
              "      <td>0.7931</td>\n",
              "      <td>-0.1756</td>\n",
              "      <td>0.2984</td>\n",
              "      <td>1</td>\n",
              "      <td>0</td>\n",
              "      <td>0</td>\n",
              "      <td>0</td>\n",
              "      <td>0</td>\n",
              "      <td>0</td>\n",
              "      <td>1</td>\n",
              "    </tr>\n",
              "  </tbody>\n",
              "</table>\n",
              "</div>"
            ],
            "text/plain": [
              "    V1   V2       V3       V4   V5  V6  V7  ...  V28  V29  V30  V31  V32  V33  Class\n",
              "0   42   50   270900   270944  267  17  44  ...    1    0    0    0    0    0      1\n",
              "1  645  651  2538079  2538108  108  10  30  ...    1    0    0    0    0    0      1\n",
              "\n",
              "[2 rows x 34 columns]"
            ]
          },
          "metadata": {
            "tags": []
          },
          "execution_count": 8
        }
      ]
    },
    {
      "cell_type": "code",
      "metadata": {
        "id": "RCpu6NGYRgKC",
        "colab_type": "code",
        "cellView": "form",
        "colab": {
          "base_uri": "https://localhost:8080/",
          "height": 235
        },
        "outputId": "cb14d58b-3fbc-4fc5-c7ff-5f27504870d2"
      },
      "source": [
        "#@title 1. Normalizar continuas\n",
        "#Separando las variables continuas\n",
        "x_continuas = df_fall_placa_acero.loc[:, columns_continuas].values\n",
        "x_continuas = (x_continuas - x_continuas.min()) / (x_continuas.max() - x_continuas.min())\n",
        "x_continuas"
      ],
      "execution_count": 9,
      "outputs": [
        {
          "output_type": "execute_result",
          "data": {
            "text/plain": [
              "array([[0.16962119, 0.20062757, 0.19097144, ..., 0.29390548, 0.11445023,\n",
              "        0.25573383],\n",
              "       [0.28525216, 0.22291593, 0.19503122, ..., 0.2898457 , 0.13316404,\n",
              "        0.20983082],\n",
              "       [0.31862   , 0.21697991, 0.21547569, ..., 0.26940122, 0.14170414,\n",
              "        0.19634135],\n",
              "       ...,\n",
              "       [0.19605021, 0.21473167, 0.24522046, ..., 0.08347621, 0.1624074 ,\n",
              "        0.27606509],\n",
              "       [0.1941578 , 0.25706014, 0.31350888, ..., 0.15176463, 0.1588005 ,\n",
              "        0.32200045],\n",
              "       [0.18036101, 0.27124511, 0.29096173, ..., 0.12921748, 0.14314366,\n",
              "        0.24722609]])"
            ]
          },
          "metadata": {
            "tags": []
          },
          "execution_count": 9
        }
      ]
    },
    {
      "cell_type": "code",
      "metadata": {
        "id": "0_NNuhAk3hHb",
        "colab_type": "code",
        "cellView": "form",
        "colab": {
          "base_uri": "https://localhost:8080/",
          "height": 200
        },
        "outputId": "c15cbd64-bd44-4ec6-8088-1ab778fbff0f"
      },
      "source": [
        "#@title Variable target\n",
        "#Separando las variable target\n",
        "y = df_fall_placa_acero.loc[:,['Class']].values\n",
        "y = pd.DataFrame(y, columns=['Class'])\n",
        "y.head(5)"
      ],
      "execution_count": 19,
      "outputs": [
        {
          "output_type": "execute_result",
          "data": {
            "text/html": [
              "<div>\n",
              "<style scoped>\n",
              "    .dataframe tbody tr th:only-of-type {\n",
              "        vertical-align: middle;\n",
              "    }\n",
              "\n",
              "    .dataframe tbody tr th {\n",
              "        vertical-align: top;\n",
              "    }\n",
              "\n",
              "    .dataframe thead th {\n",
              "        text-align: right;\n",
              "    }\n",
              "</style>\n",
              "<table border=\"1\" class=\"dataframe\">\n",
              "  <thead>\n",
              "    <tr style=\"text-align: right;\">\n",
              "      <th></th>\n",
              "      <th>Class</th>\n",
              "    </tr>\n",
              "  </thead>\n",
              "  <tbody>\n",
              "    <tr>\n",
              "      <th>0</th>\n",
              "      <td>1</td>\n",
              "    </tr>\n",
              "    <tr>\n",
              "      <th>1</th>\n",
              "      <td>1</td>\n",
              "    </tr>\n",
              "    <tr>\n",
              "      <th>2</th>\n",
              "      <td>1</td>\n",
              "    </tr>\n",
              "    <tr>\n",
              "      <th>3</th>\n",
              "      <td>1</td>\n",
              "    </tr>\n",
              "    <tr>\n",
              "      <th>4</th>\n",
              "      <td>1</td>\n",
              "    </tr>\n",
              "  </tbody>\n",
              "</table>\n",
              "</div>"
            ],
            "text/plain": [
              "   Class\n",
              "0      1\n",
              "1      1\n",
              "2      1\n",
              "3      1\n",
              "4      1"
            ]
          },
          "metadata": {
            "tags": []
          },
          "execution_count": 19
        }
      ]
    },
    {
      "cell_type": "code",
      "metadata": {
        "id": "Iaw30AQmenAo",
        "colab_type": "code",
        "colab": {
          "base_uri": "https://localhost:8080/",
          "height": 33
        },
        "outputId": "46dcc66c-bb96-485b-d8bf-7e47463cda64"
      },
      "source": [
        "np.unique(df_fall_placa_acero.loc[:,['Class']].values)"
      ],
      "execution_count": 20,
      "outputs": [
        {
          "output_type": "execute_result",
          "data": {
            "text/plain": [
              "array([1, 2])"
            ]
          },
          "metadata": {
            "tags": []
          },
          "execution_count": 20
        }
      ]
    },
    {
      "cell_type": "code",
      "metadata": {
        "id": "MwaylN0EjE9U",
        "colab_type": "code",
        "cellView": "form",
        "colab": {
          "base_uri": "https://localhost:8080/",
          "height": 200
        },
        "outputId": "fa402c92-5f53-40b3-91a9-8b3b0aff5802"
      },
      "source": [
        "#@title 2. Dataframe Continuas normalizadas\n",
        "pd_continuas = pd.DataFrame(x_continuas, columns=columns_continuas)\n",
        "pd_continuas.head(5)"
      ],
      "execution_count": 10,
      "outputs": [
        {
          "output_type": "execute_result",
          "data": {
            "text/html": [
              "<div>\n",
              "<style scoped>\n",
              "    .dataframe tbody tr th:only-of-type {\n",
              "        vertical-align: middle;\n",
              "    }\n",
              "\n",
              "    .dataframe tbody tr th {\n",
              "        vertical-align: top;\n",
              "    }\n",
              "\n",
              "    .dataframe thead th {\n",
              "        text-align: right;\n",
              "    }\n",
              "</style>\n",
              "<table border=\"1\" class=\"dataframe\">\n",
              "  <thead>\n",
              "    <tr style=\"text-align: right;\">\n",
              "      <th></th>\n",
              "      <th>V15</th>\n",
              "      <th>V16</th>\n",
              "      <th>V17</th>\n",
              "      <th>V18</th>\n",
              "      <th>V19</th>\n",
              "      <th>V20</th>\n",
              "      <th>V21</th>\n",
              "      <th>V22</th>\n",
              "      <th>V23</th>\n",
              "      <th>V24</th>\n",
              "      <th>V25</th>\n",
              "      <th>V26</th>\n",
              "      <th>V27</th>\n",
              "    </tr>\n",
              "  </thead>\n",
              "  <tbody>\n",
              "    <tr>\n",
              "      <th>0</th>\n",
              "      <td>0.169621</td>\n",
              "      <td>0.200628</td>\n",
              "      <td>0.190971</td>\n",
              "      <td>0.162327</td>\n",
              "      <td>0.237683</td>\n",
              "      <td>0.323311</td>\n",
              "      <td>0.323311</td>\n",
              "      <td>0.554039</td>\n",
              "      <td>0.307638</td>\n",
              "      <td>0.427393</td>\n",
              "      <td>0.293905</td>\n",
              "      <td>0.114450</td>\n",
              "      <td>0.255734</td>\n",
              "    </tr>\n",
              "    <tr>\n",
              "      <th>1</th>\n",
              "      <td>0.285252</td>\n",
              "      <td>0.222916</td>\n",
              "      <td>0.195031</td>\n",
              "      <td>0.162149</td>\n",
              "      <td>0.258613</td>\n",
              "      <td>0.317924</td>\n",
              "      <td>0.323311</td>\n",
              "      <td>0.490457</td>\n",
              "      <td>0.287436</td>\n",
              "      <td>0.398101</td>\n",
              "      <td>0.289846</td>\n",
              "      <td>0.133164</td>\n",
              "      <td>0.209831</td>\n",
              "    </tr>\n",
              "    <tr>\n",
              "      <th>2</th>\n",
              "      <td>0.318620</td>\n",
              "      <td>0.216980</td>\n",
              "      <td>0.215476</td>\n",
              "      <td>0.162165</td>\n",
              "      <td>0.282875</td>\n",
              "      <td>0.314803</td>\n",
              "      <td>0.323311</td>\n",
              "      <td>0.461003</td>\n",
              "      <td>0.287436</td>\n",
              "      <td>0.364604</td>\n",
              "      <td>0.269401</td>\n",
              "      <td>0.141704</td>\n",
              "      <td>0.196341</td>\n",
              "    </tr>\n",
              "    <tr>\n",
              "      <th>3</th>\n",
              "      <td>0.279429</td>\n",
              "      <td>0.232944</td>\n",
              "      <td>0.186734</td>\n",
              "      <td>0.162407</td>\n",
              "      <td>0.248666</td>\n",
              "      <td>0.323311</td>\n",
              "      <td>0.323311</td>\n",
              "      <td>0.524763</td>\n",
              "      <td>0.298256</td>\n",
              "      <td>0.428962</td>\n",
              "      <td>0.298143</td>\n",
              "      <td>0.136205</td>\n",
              "      <td>0.245867</td>\n",
              "    </tr>\n",
              "    <tr>\n",
              "      <th>4</th>\n",
              "      <td>0.172808</td>\n",
              "      <td>0.234125</td>\n",
              "      <td>0.172274</td>\n",
              "      <td>0.163604</td>\n",
              "      <td>0.207388</td>\n",
              "      <td>0.321451</td>\n",
              "      <td>0.323311</td>\n",
              "      <td>0.708553</td>\n",
              "      <td>0.360593</td>\n",
              "      <td>0.551354</td>\n",
              "      <td>0.312603</td>\n",
              "      <td>0.129347</td>\n",
              "      <td>0.323311</td>\n",
              "    </tr>\n",
              "  </tbody>\n",
              "</table>\n",
              "</div>"
            ],
            "text/plain": [
              "        V15       V16       V17  ...       V25       V26       V27\n",
              "0  0.169621  0.200628  0.190971  ...  0.293905  0.114450  0.255734\n",
              "1  0.285252  0.222916  0.195031  ...  0.289846  0.133164  0.209831\n",
              "2  0.318620  0.216980  0.215476  ...  0.269401  0.141704  0.196341\n",
              "3  0.279429  0.232944  0.186734  ...  0.298143  0.136205  0.245867\n",
              "4  0.172808  0.234125  0.172274  ...  0.312603  0.129347  0.323311\n",
              "\n",
              "[5 rows x 13 columns]"
            ]
          },
          "metadata": {
            "tags": []
          },
          "execution_count": 10
        }
      ]
    },
    {
      "cell_type": "code",
      "metadata": {
        "colab_type": "code",
        "id": "FmKMHKIBlATC",
        "cellView": "form",
        "colab": {
          "base_uri": "https://localhost:8080/",
          "height": 33
        },
        "outputId": "33c96b8d-a926-40b0-91cc-e8befc959eb5"
      },
      "source": [
        "#@title 3. Kbins Sturges\n",
        "n = len(x_continuas)\n",
        "k = 1 + math.log2(n)\n",
        "k=round(k,0)\n",
        "k"
      ],
      "execution_count": 13,
      "outputs": [
        {
          "output_type": "execute_result",
          "data": {
            "text/plain": [
              "12.0"
            ]
          },
          "metadata": {
            "tags": []
          },
          "execution_count": 13
        }
      ]
    },
    {
      "cell_type": "code",
      "metadata": {
        "colab_type": "code",
        "id": "6PfnLIPllv3k",
        "cellView": "form",
        "colab": {
          "base_uri": "https://localhost:8080/",
          "height": 308
        },
        "outputId": "82d24d32-e481-4f78-8aa2-f5f024cda7fd"
      },
      "source": [
        "#@title 4. Discretizacion por intervalos V9\n",
        "est = KBinsDiscretizer(n_bins=11, encode='ordinal', strategy=\"uniform\")\n",
        "nuevo = est.fit_transform(df_fall_placa_acero[['V9']])\n",
        "xs = pd.DataFrame(nuevo, columns=['V9'])\n",
        "xs.groupby('V9').size().plot(kind='bar')"
      ],
      "execution_count": 21,
      "outputs": [
        {
          "output_type": "execute_result",
          "data": {
            "text/plain": [
              "<matplotlib.axes._subplots.AxesSubplot at 0x7f4f147ee860>"
            ]
          },
          "metadata": {
            "tags": []
          },
          "execution_count": 21
        },
        {
          "output_type": "display_data",
          "data": {
            "image/png": "[encoded data removed]",
            "text/plain": [
              "<Figure size 432x288 with 1 Axes>"
            ]
          },
          "metadata": {
            "tags": [],
            "needs_background": "light"
          }
        }
      ]
    },
    {
      "cell_type": "code",
      "metadata": {
        "colab_type": "code",
        "id": "m_Uh5cnTlv3v",
        "cellView": "form",
        "colab": {
          "base_uri": "https://localhost:8080/",
          "height": 325
        },
        "outputId": "0b7e3c8a-b86f-4f45-debd-804fb220ddc8"
      },
      "source": [
        "#@title 5. Discretizacion por cuantil \"V19\"\n",
        "n19 = len(pd_continuas[['V19']])\n",
        "k19 = 1 + math.log2(n19)\n",
        "k19 = int(round(k19,0))\n",
        "est = KBinsDiscretizer(n_bins=k19, encode='ordinal', strategy=\"quantile\")\n",
        "nuevo = est.fit_transform(pd_continuas[['V19']])\n",
        "xs = pd.DataFrame(nuevo, columns=['V19'])\n",
        "print(k19)\n",
        "xs.groupby('V19').size().plot(kind='bar')"
      ],
      "execution_count": 17,
      "outputs": [
        {
          "output_type": "stream",
          "text": [
            "12\n"
          ],
          "name": "stdout"
        },
        {
          "output_type": "execute_result",
          "data": {
            "text/plain": [
              "<matplotlib.axes._subplots.AxesSubplot at 0x7f4f14c7d4a8>"
            ]
          },
          "metadata": {
            "tags": []
          },
          "execution_count": 17
        },
        {
          "output_type": "display_data",
          "data": {
            "image/png": "[encoded data removed]",
            "text/plain": [
              "<Figure size 432x288 with 1 Axes>"
            ]
          },
          "metadata": {
            "tags": [],
            "needs_background": "light"
          }
        }
      ]
    },
    {
      "cell_type": "code",
      "metadata": {
        "id": "aRgfoyaaoNn4",
        "colab_type": "code",
        "cellView": "form",
        "colab": {
          "base_uri": "https://localhost:8080/",
          "height": 325
        },
        "outputId": "72f6bba7-fa95-4b7f-a5d6-4ea4d826d55c"
      },
      "source": [
        "#@title 6. Discretizacion por kmeans \"V15\"\n",
        "n15 = len(pd_continuas[['V15']])\n",
        "k15 = 1 + math.log2(n15)\n",
        "k15 = int(round(k15,0))\n",
        "est = KBinsDiscretizer(n_bins=k15, encode='ordinal', strategy=\"kmeans\")\n",
        "nuevo = est.fit_transform(pd_continuas[['V15']])\n",
        "xs = pd.DataFrame(nuevo, columns=['V15'])\n",
        "print(k15)\n",
        "xs.groupby('V15').size().plot(kind='bar')"
      ],
      "execution_count": 18,
      "outputs": [
        {
          "output_type": "stream",
          "text": [
            "12\n"
          ],
          "name": "stdout"
        },
        {
          "output_type": "execute_result",
          "data": {
            "text/plain": [
              "<matplotlib.axes._subplots.AxesSubplot at 0x7f4f101cbc50>"
            ]
          },
          "metadata": {
            "tags": []
          },
          "execution_count": 18
        },
        {
          "output_type": "display_data",
          "data": {
            "image/png": "[encoded data removed]",
            "text/plain": [
              "<Figure size 432x288 with 1 Axes>"
            ]
          },
          "metadata": {
            "tags": [],
            "needs_background": "light"
          }
        }
      ]
    }
  ]
}